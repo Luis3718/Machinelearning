{
  "nbformat": 4,
  "nbformat_minor": 0,
  "metadata": {
    "colab": {
      "provenance": [],
      "toc_visible": true,
      "gpuType": "T4"
    },
    "kernelspec": {
      "name": "python3",
      "display_name": "Python 3"
    },
    "language_info": {
      "name": "python"
    },
    "accelerator": "GPU"
  },
  "cells": [
    {
      "cell_type": "markdown",
      "source": [
        "  Algoritmo de Redes neuronales combolucionales\n",
        "  \n",
        "  Instituto Politécnico Nacional\n",
        "  \n",
        "  ESCOM\n",
        "  \n",
        "  Alvarado Romero Luis Manuel\n",
        "  \n",
        "  Alejandre Dominguez Alan Jose   \n",
        "  \n",
        "  Materia: Machine learning\n",
        "  \n",
        "  Grupo: 6CV3\n"
      ],
      "metadata": {
        "id": "E4VuCNWO9jf_"
      }
    },
    {
      "cell_type": "markdown",
      "source": [
        "Importamos los plugins necesarios para realizar la practica"
      ],
      "metadata": {
        "id": "7cQvaylbC1dV"
      }
    },
    {
      "cell_type": "code",
      "execution_count": 72,
      "metadata": {
        "id": "o4an3Krg9cs-"
      },
      "outputs": [],
      "source": [
        "import os\n",
        "import numpy as np\n",
        "import pandas as pd\n",
        "import tensorflow as tf\n",
        "import sklearn as skl\n",
        "import matplotlib.pyplot as plt\n",
        "from google.colab import drive\n",
        "from keras.preprocessing.image import ImageDataGenerator\n",
        "from keras.models import Sequential\n",
        "from keras.layers import Conv2D, Dense, Flatten, MaxPooling2D\n",
        "from keras.applications.imagenet_utils import preprocess_input\n",
        "from keras.optimizers import SGD\n",
        "from sklearn.metrics import *"
      ]
    },
    {
      "cell_type": "markdown",
      "source": [
        "Montamos nuestro Google drive donde es que tenemos nuestro banco de imagenes "
      ],
      "metadata": {
        "id": "gnoKCNNXDHqR"
      }
    },
    {
      "cell_type": "code",
      "source": [
        "drive.mount('/content/drive')"
      ],
      "metadata": {
        "colab": {
          "base_uri": "https://localhost:8080/"
        },
        "id": "DG7TmX2dCI0L",
        "outputId": "bb756fef-7a83-4a91-bc0a-4cf02326fe2b"
      },
      "execution_count": 73,
      "outputs": [
        {
          "output_type": "stream",
          "name": "stdout",
          "text": [
            "Drive already mounted at /content/drive; to attempt to forcibly remount, call drive.mount(\"/content/drive\", force_remount=True).\n"
          ]
        }
      ]
    },
    {
      "cell_type": "markdown",
      "source": [
        "Verificamos la version de tensorflow que usaremos para nuestra practica"
      ],
      "metadata": {
        "id": "qQhPfwW9C1ku"
      }
    },
    {
      "cell_type": "code",
      "source": [
        "tf.__version__"
      ],
      "metadata": {
        "colab": {
          "base_uri": "https://localhost:8080/",
          "height": 36
        },
        "id": "OGP7vgEQ9g6y",
        "outputId": "b27b82ff-21a8-4861-b40d-32433fa82be3"
      },
      "execution_count": 74,
      "outputs": [
        {
          "output_type": "execute_result",
          "data": {
            "text/plain": [
              "'2.12.0'"
            ],
            "application/vnd.google.colaboratory.intrinsic+json": {
              "type": "string"
            }
          },
          "metadata": {},
          "execution_count": 74
        }
      ]
    },
    {
      "cell_type": "markdown",
      "source": [
        "Verificamos que estemos usando una GPU en colab para que esta se encarge del procesamiento de las imagenes\n"
      ],
      "metadata": {
        "id": "0eczz1WbD-nJ"
      }
    },
    {
      "cell_type": "code",
      "source": [
        "gpu_info=!nvidia-smi\n",
        "gpu_info='\\n'.join(gpu_info)\n",
        "if gpu_info.find('failed')>=0:\n",
        "  print('Not connected to a GPU')\n",
        "else: \n",
        "  print(gpu_info)\n",
        "\n",
        "tf.test.gpu_device_name()\n",
        "print(\"Numero de GPU disponibles: \",len(tf.config.list_physical_devices(\"GPU\")))"
      ],
      "metadata": {
        "colab": {
          "base_uri": "https://localhost:8080/"
        },
        "id": "o6Dpc2E3AYcM",
        "outputId": "91908f07-85d4-46a2-edd3-680164c3bab7"
      },
      "execution_count": 75,
      "outputs": [
        {
          "output_type": "stream",
          "name": "stdout",
          "text": [
            "Sat Jun  3 05:55:24 2023       \n",
            "+-----------------------------------------------------------------------------+\n",
            "| NVIDIA-SMI 525.85.12    Driver Version: 525.85.12    CUDA Version: 12.0     |\n",
            "|-------------------------------+----------------------+----------------------+\n",
            "| GPU  Name        Persistence-M| Bus-Id        Disp.A | Volatile Uncorr. ECC |\n",
            "| Fan  Temp  Perf  Pwr:Usage/Cap|         Memory-Usage | GPU-Util  Compute M. |\n",
            "|                               |                      |               MIG M. |\n",
            "|===============================+======================+======================|\n",
            "|   0  Tesla T4            Off  | 00000000:00:04.0 Off |                    0 |\n",
            "| N/A   49C    P0    28W /  70W |   1135MiB / 15360MiB |      0%      Default |\n",
            "|                               |                      |                  N/A |\n",
            "+-------------------------------+----------------------+----------------------+\n",
            "                                                                               \n",
            "+-----------------------------------------------------------------------------+\n",
            "| Processes:                                                                  |\n",
            "|  GPU   GI   CI        PID   Type   Process name                  GPU Memory |\n",
            "|        ID   ID                                                   Usage      |\n",
            "|=============================================================================|\n",
            "+-----------------------------------------------------------------------------+\n",
            "Numero de GPU disponibles:  1\n"
          ]
        }
      ]
    },
    {
      "cell_type": "markdown",
      "source": [
        "Listamos las carpetas que encontramos en nuestro google drive"
      ],
      "metadata": {
        "id": "JGHOReE3GyYN"
      }
    },
    {
      "cell_type": "code",
      "source": [
        "os.listdir('/content/drive/MyDrive/Practica6/')"
      ],
      "metadata": {
        "colab": {
          "base_uri": "https://localhost:8080/"
        },
        "id": "698mUhehEh6O",
        "outputId": "8ea9c1f7-3a21-49aa-b63b-a7da5ceceb3f"
      },
      "execution_count": 76,
      "outputs": [
        {
          "output_type": "execute_result",
          "data": {
            "text/plain": [
              "['Train', 'Test']"
            ]
          },
          "metadata": {},
          "execution_count": 76
        }
      ]
    },
    {
      "cell_type": "markdown",
      "source": [
        "Creamos las variables de hiperparametros para los conjuntos de entramiento y prueba\n"
      ],
      "metadata": {
        "id": "A4677vPbLL0-"
      }
    },
    {
      "cell_type": "code",
      "source": [
        "Train='/content/drive/MyDrive/Practica6/Train/'\n",
        "Test='/content/drive/MyDrive/Practica6/Test/'\n",
        "longitud,altura = 250,250\n",
        "TBatch = 32\n",
        "Nkernel = 7\n",
        "Tkernel = (3,3)\n",
        "Nepocas= 20\n",
        "clase = 'binary'\n",
        "optim=SGD(\n",
        "  learning_rate=0.01,\n",
        "  momentum=0.9,\n",
        "  decay=0.01\n",
        ")"
      ],
      "metadata": {
        "id": "m4G0q3MBLJUj"
      },
      "execution_count": 77,
      "outputs": []
    },
    {
      "cell_type": "markdown",
      "source": [
        "Preparamos las imagenes del conjunto de entrenamiento y de prueba, donde les damos parametros al de entrenamiento para mejorar el entrenamiento de nuestra red como lo pueden ser el rescalamiento de las imagenes, que pueda inclinar un poco las imagenes, para mejorar el entrenamiento tambien damos una parte del conjunto de entrenamiento para el validacion como lo es el 20% de nuestro conjunto\n"
      ],
      "metadata": {
        "id": "wweYJbV8ITct"
      }
    },
    {
      "cell_type": "code",
      "source": [
        "Entrenamiento_datagen=ImageDataGenerator(rescale=1./255,horizontal_flip=True,shear_range=0.3,validation_split=0.2)\n",
        "Prueba_datagen=ImageDataGenerator()\n",
        "\n",
        "Entreanamiento_generator=Entrenamiento_datagen.flow_from_directory(\n",
        "    Train,\n",
        "    target_size=(altura,longitud),\n",
        "    batch_size = TBatch,\n",
        "    class_mode = clase,\n",
        "    subset = 'training'    \n",
        ")\n",
        "\n",
        "Validacion_generator=Entrenamiento_datagen.flow_from_directory(\n",
        "    Train,\n",
        "    target_size=(altura,longitud),\n",
        "    batch_size = TBatch,\n",
        "    class_mode = clase,\n",
        "    subset = 'validation'    \n",
        ")\n",
        "\n",
        "Prueba_generator=Prueba_datagen.flow_from_directory(\n",
        "    Test,\n",
        "    target_size=(altura,longitud),\n",
        "    batch_size = TBatch,\n",
        "    class_mode = clase,   \n",
        ")"
      ],
      "metadata": {
        "id": "VSLyfWM-EiJl",
        "colab": {
          "base_uri": "https://localhost:8080/"
        },
        "outputId": "694178ea-0599-4398-9de1-1aaf4cab8ee5"
      },
      "execution_count": 78,
      "outputs": [
        {
          "output_type": "stream",
          "name": "stdout",
          "text": [
            "Found 6400 images belonging to 2 classes.\n",
            "Found 1600 images belonging to 2 classes.\n",
            "Found 2000 images belonging to 2 classes.\n"
          ]
        }
      ]
    },
    {
      "cell_type": "markdown",
      "source": [
        "Creamos el modelo"
      ],
      "metadata": {
        "id": "XU77zxXFsOzz"
      }
    },
    {
      "cell_type": "code",
      "source": [
        "modelo = Sequential()\n",
        "\n",
        "#Creamos la primer capa\n",
        "modelo.add(Conv2D(7,(3,3), strides=(2,2), activation='relu', input_shape=(altura, longitud, 3)))\n",
        "modelo.add(MaxPooling2D(pool_size=(3,3), strides=(2,2)))\n",
        "\n",
        "#Creamos una segunda capa\n",
        "modelo.add(Conv2D(7,(3,3), strides=(2,2), activation='relu', input_shape=(altura, longitud, 3)))\n",
        "modelo.add(MaxPooling2D(pool_size=(3,3), strides=(2,2)))\n",
        "\n",
        "#Realizamos el aplanado\n",
        "modelo.add(Flatten())\n",
        "modelo.add(Dense(512, activation='relu'))\n",
        "modelo.add(Dense(1, activation='sigmoid'))\n",
        "modelo.summary()\n"
      ],
      "metadata": {
        "id": "P9JkCPNYxdqK",
        "colab": {
          "base_uri": "https://localhost:8080/"
        },
        "outputId": "db89afa4-88fe-45a1-a6f7-773793a8e916"
      },
      "execution_count": 79,
      "outputs": [
        {
          "output_type": "stream",
          "name": "stdout",
          "text": [
            "Model: \"sequential_2\"\n",
            "_________________________________________________________________\n",
            " Layer (type)                Output Shape              Param #   \n",
            "=================================================================\n",
            " conv2d_4 (Conv2D)           (None, 124, 124, 7)       196       \n",
            "                                                                 \n",
            " max_pooling2d_4 (MaxPooling  (None, 61, 61, 7)        0         \n",
            " 2D)                                                             \n",
            "                                                                 \n",
            " conv2d_5 (Conv2D)           (None, 30, 30, 7)         448       \n",
            "                                                                 \n",
            " max_pooling2d_5 (MaxPooling  (None, 14, 14, 7)        0         \n",
            " 2D)                                                             \n",
            "                                                                 \n",
            " flatten_2 (Flatten)         (None, 1372)              0         \n",
            "                                                                 \n",
            " dense_4 (Dense)             (None, 512)               702976    \n",
            "                                                                 \n",
            " dense_5 (Dense)             (None, 1)                 513       \n",
            "                                                                 \n",
            "=================================================================\n",
            "Total params: 704,133\n",
            "Trainable params: 704,133\n",
            "Non-trainable params: 0\n",
            "_________________________________________________________________\n"
          ]
        }
      ]
    },
    {
      "cell_type": "markdown",
      "source": [
        "Alimentamos nuestro modelo y lo entrnamos por 20 epocas usando nuestro conjunto de entreamiento y validacion\n"
      ],
      "metadata": {
        "id": "MHAO3nxRZe8z"
      }
    },
    {
      "cell_type": "code",
      "source": [
        "\n",
        "modelo.compile(loss='binary_crossentropy', optimizer=optim, metrics=['accuracy'])\n",
        "with tf.device('/device:GPU:0'):\n",
        "  historial = modelo.fit(\n",
        "      Entreanamiento_generator,\n",
        "      steps_per_epoch=len(Entreanamiento_generator),\n",
        "      epochs = Nepocas,\n",
        "      validation_data=Validacion_generator,\n",
        "      validation_steps=len(Validacion_generator)\n",
        "  )"
      ],
      "metadata": {
        "colab": {
          "base_uri": "https://localhost:8080/"
        },
        "id": "uXPp2uxx4jum",
        "outputId": "1f86e0fc-b1bb-447d-df37-1ea3a40be530"
      },
      "execution_count": 80,
      "outputs": [
        {
          "output_type": "stream",
          "name": "stdout",
          "text": [
            "Epoch 1/20\n",
            "200/200 [==============================] - 143s 712ms/step - loss: 0.6720 - accuracy: 0.5803 - val_loss: 0.6495 - val_accuracy: 0.6150\n",
            "Epoch 2/20\n",
            "200/200 [==============================] - 139s 698ms/step - loss: 0.6496 - accuracy: 0.6102 - val_loss: 0.6353 - val_accuracy: 0.6275\n",
            "Epoch 3/20\n",
            "200/200 [==============================] - 143s 717ms/step - loss: 0.6389 - accuracy: 0.6147 - val_loss: 0.6298 - val_accuracy: 0.6356\n",
            "Epoch 4/20\n",
            "200/200 [==============================] - 135s 677ms/step - loss: 0.6287 - accuracy: 0.6328 - val_loss: 0.6251 - val_accuracy: 0.6400\n",
            "Epoch 5/20\n",
            "200/200 [==============================] - 133s 664ms/step - loss: 0.6215 - accuracy: 0.6422 - val_loss: 0.6210 - val_accuracy: 0.6431\n",
            "Epoch 6/20\n",
            "200/200 [==============================] - 132s 661ms/step - loss: 0.6193 - accuracy: 0.6433 - val_loss: 0.6145 - val_accuracy: 0.6562\n",
            "Epoch 7/20\n",
            "200/200 [==============================] - 133s 666ms/step - loss: 0.6147 - accuracy: 0.6480 - val_loss: 0.6112 - val_accuracy: 0.6600\n",
            "Epoch 8/20\n",
            "200/200 [==============================] - 130s 652ms/step - loss: 0.6112 - accuracy: 0.6552 - val_loss: 0.6067 - val_accuracy: 0.6644\n",
            "Epoch 9/20\n",
            "200/200 [==============================] - 132s 661ms/step - loss: 0.6085 - accuracy: 0.6608 - val_loss: 0.6073 - val_accuracy: 0.6594\n",
            "Epoch 10/20\n",
            "200/200 [==============================] - 131s 656ms/step - loss: 0.6039 - accuracy: 0.6645 - val_loss: 0.6057 - val_accuracy: 0.6637\n",
            "Epoch 11/20\n",
            "200/200 [==============================] - 133s 666ms/step - loss: 0.6005 - accuracy: 0.6644 - val_loss: 0.5990 - val_accuracy: 0.6694\n",
            "Epoch 12/20\n",
            "200/200 [==============================] - 148s 741ms/step - loss: 0.5973 - accuracy: 0.6761 - val_loss: 0.5953 - val_accuracy: 0.6781\n",
            "Epoch 13/20\n",
            "200/200 [==============================] - 137s 687ms/step - loss: 0.5945 - accuracy: 0.6708 - val_loss: 0.5949 - val_accuracy: 0.6712\n",
            "Epoch 14/20\n",
            "200/200 [==============================] - 141s 707ms/step - loss: 0.5949 - accuracy: 0.6748 - val_loss: 0.5895 - val_accuracy: 0.6794\n",
            "Epoch 15/20\n",
            "200/200 [==============================] - 142s 713ms/step - loss: 0.5891 - accuracy: 0.6789 - val_loss: 0.5935 - val_accuracy: 0.6769\n",
            "Epoch 16/20\n",
            "200/200 [==============================] - 134s 671ms/step - loss: 0.5866 - accuracy: 0.6864 - val_loss: 0.5894 - val_accuracy: 0.6888\n",
            "Epoch 17/20\n",
            "200/200 [==============================] - 137s 684ms/step - loss: 0.5809 - accuracy: 0.6941 - val_loss: 0.5866 - val_accuracy: 0.6913\n",
            "Epoch 18/20\n",
            "200/200 [==============================] - 135s 677ms/step - loss: 0.5804 - accuracy: 0.6911 - val_loss: 0.5809 - val_accuracy: 0.6906\n",
            "Epoch 19/20\n",
            "200/200 [==============================] - 149s 745ms/step - loss: 0.5775 - accuracy: 0.6964 - val_loss: 0.5780 - val_accuracy: 0.6881\n",
            "Epoch 20/20\n",
            "200/200 [==============================] - 135s 674ms/step - loss: 0.5754 - accuracy: 0.6997 - val_loss: 0.5814 - val_accuracy: 0.6837\n"
          ]
        }
      ]
    },
    {
      "cell_type": "markdown",
      "source": [
        "Creamos una metrica para ver si es que nuestra red neuronal si esta aprendiendo de una manera correcta y vemos si necesita entrenarse mas o no"
      ],
      "metadata": {
        "id": "h47jCAbhZtyM"
      }
    },
    {
      "cell_type": "code",
      "source": [
        "plt.style.use(\"ggplot\")\n",
        "plt.figure()\n",
        "plt.plot(np.arange(0, Nepocas), historial.history[\"loss\"], label=\"Train_loss\")\n",
        "plt.plot(np.arange(0, Nepocas), historial.history[\"val_loss\"], label=\"Val_loss\")\n",
        "plt.plot(np.arange(0, Nepocas), historial.history[\"accuracy\"], label=\"Train_accuracy\")\n",
        "plt.plot(np.arange(0, Nepocas), historial.history[\"val_accuracy\"], label=\"Val_accuracy\")\n",
        "plt.title(\"Training loss and Acuracy\")\n",
        "plt.xlabel(\"Epoca #\")\n",
        "plt.ylabel(\"Loss/Accuracy\")\n",
        "plt.legend(loc=\"lower left\")\n",
        "plt.savefig(\"plot.png\")\n"
      ],
      "metadata": {
        "colab": {
          "base_uri": "https://localhost:8080/",
          "height": 477
        },
        "id": "RnfXqbn-Ztfc",
        "outputId": "31aac4d7-3c7a-41d6-87c4-28b809abbbdc"
      },
      "execution_count": 81,
      "outputs": [
        {
          "output_type": "display_data",
          "data": {
            "text/plain": [
              "<Figure size 640x480 with 1 Axes>"
            ],
            "image/png": "[encoded data removed]"
          },
          "metadata": {}
        }
      ]
    },
    {
      "cell_type": "markdown",
      "source": [
        "Hacemos la prediccion de nuestro modelo con nuestros datos de prueba"
      ],
      "metadata": {
        "id": "Y-jyF_VHcqKw"
      }
    },
    {
      "cell_type": "code",
      "source": [
        "with tf.device('/device:GPU:0'):\n",
        "  Prediccion=modelo.predict(Prueba_generator)\n"
      ],
      "metadata": {
        "colab": {
          "base_uri": "https://localhost:8080/"
        },
        "id": "54cb3ow0cuWd",
        "outputId": "652c1a50-d480-48fd-f491-b1e21c8d02db"
      },
      "execution_count": 82,
      "outputs": [
        {
          "output_type": "stream",
          "name": "stdout",
          "text": [
            "63/63 [==============================] - 10s 150ms/step\n"
          ]
        }
      ]
    },
    {
      "cell_type": "markdown",
      "source": [
        "Hacemos una variable donde convertimos las clases de nuestra prediccion para tener clases binarias"
      ],
      "metadata": {
        "id": "ABXjzM7BdiyL"
      }
    },
    {
      "cell_type": "code",
      "source": [
        "Prediccionfinal=np.where(Prediccion> 0.5,1,0)"
      ],
      "metadata": {
        "id": "Z0pxJ07cdibA"
      },
      "execution_count": 83,
      "outputs": []
    },
    {
      "cell_type": "markdown",
      "source": [
        "Imprimos las clases predichas contra las clases reales\n"
      ],
      "metadata": {
        "id": "8d00v09Iecp9"
      }
    },
    {
      "cell_type": "code",
      "source": [
        "print(\"Clases reales:\")\n",
        "print(Prueba_generator.classes)\n",
        "print(\"\\nClases predichas:\")\n",
        "#Prediccionfinal=np.reshape(Prediccionfinal,(len(Prediccionfinal),1))\n",
        "print(Prediccionfinal)\n",
        "Acuracy=accuracy_score(Prueba_generator.classes,Prediccionfinal)\n",
        "Recall=recall_score(Prueba_generator.classes,Prediccionfinal, average=\"macro\")\n",
        "Precision=precision_score(Prueba_generator.classes,Prediccionfinal, average=\"macro\")\n",
        "F1=f1_score(Prueba_generator.classes,Prediccionfinal, average=\"macro\")\n",
        "print(\"\\nMetricas: \\n\")\n",
        "print(\"Exactitud: \",Acuracy)\n",
        "print(\"Sensibilidad: \",Recall)\n",
        "print(\"Presicion: \",Precision)\n",
        "print(\"F1: \",F1)"
      ],
      "metadata": {
        "id": "qbTVJzGvej8f",
        "colab": {
          "base_uri": "https://localhost:8080/"
        },
        "outputId": "5b766bf3-da9d-4103-d5af-f9361249aeae"
      },
      "execution_count": 85,
      "outputs": [
        {
          "output_type": "stream",
          "name": "stdout",
          "text": [
            "Clases reales:\n",
            "[0 0 0 ... 1 1 1]\n",
            "\n",
            "Clases predichas:\n",
            "[[1]\n",
            " [1]\n",
            " [1]\n",
            " ...\n",
            " [1]\n",
            " [1]\n",
            " [1]]\n",
            "\n",
            "Metricas: \n",
            "\n",
            "Exactitud:  0.502\n",
            "Sensibilidad:  0.502\n",
            "Presicion:  0.5082270670505964\n",
            "F1:  0.3857728716351639\n"
          ]
        }
      ]
    }
  ]
}