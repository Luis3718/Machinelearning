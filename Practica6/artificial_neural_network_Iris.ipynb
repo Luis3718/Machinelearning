{
 "cells": [
  {
   "cell_type": "markdown",
   "metadata": {
    "colab_type": "text",
    "id": "lP6JLo1tGNBg"
   },
   "source": [
    "# Artificial Neural Network"
   ]
  },
  {
   "cell_type": "markdown",
   "metadata": {
    "colab_type": "text",
    "id": "gWZyYmS_UE_L"
   },
   "source": [
    "### Importing the libraries"
   ]
  },
  {
   "cell_type": "code",
   "execution_count": 1,
   "metadata": {
    "colab": {},
    "colab_type": "code",
    "id": "MxkJoQBkUIHC"
   },
   "outputs": [],
   "source": [
    "import numpy as np\n",
    "import pandas as pd\n",
    "import tensorflow as tf"
   ]
  },
  {
   "cell_type": "code",
   "execution_count": 2,
   "metadata": {
    "colab": {
     "base_uri": "https://localhost:8080/",
     "height": 34
    },
    "colab_type": "code",
    "id": "ZaTwK7ojXr2F",
    "outputId": "0b27a96d-d11a-43e8-ab4b-87c1f01896fe"
   },
   "outputs": [
    {
     "data": {
      "text/plain": [
       "'2.11.0'"
      ]
     },
     "execution_count": 2,
     "metadata": {},
     "output_type": "execute_result"
    }
   ],
   "source": [
    "tf.__version__"
   ]
  },
  {
   "cell_type": "markdown",
   "metadata": {
    "colab_type": "text",
    "id": "1E0Q3aoKUCRX"
   },
   "source": [
    "## Part 1 - Data Preprocessing"
   ]
  },
  {
   "cell_type": "markdown",
   "metadata": {
    "colab_type": "text",
    "id": "cKWAkFVGUU0Z"
   },
   "source": [
    "### Importing the dataset"
   ]
  },
  {
   "cell_type": "code",
   "execution_count": 3,
   "metadata": {
    "colab": {},
    "colab_type": "code",
    "id": "MXUkhkMfU4wq"
   },
   "outputs": [],
   "source": [
    "dataset = pd.read_csv('iris.csv')\n",
    "X = dataset.iloc[:,0:4].values\n",
    "y = dataset.iloc[:,-1].values"
   ]
  },
  {
   "cell_type": "code",
   "execution_count": 4,
   "metadata": {
    "colab": {
     "base_uri": "https://localhost:8080/",
     "height": 137
    },
    "colab_type": "code",
    "id": "VYP9cQTWbzuI",
    "outputId": "797e7a64-9bac-436a-8c9c-94437e5e7587"
   },
   "outputs": [
    {
     "name": "stdout",
     "output_type": "stream",
     "text": [
      "<class 'numpy.ndarray'>\n",
      "(150, 4)\n"
     ]
    }
   ],
   "source": [
    "print(type(X))\n",
    "print(X.shape)"
   ]
  },
  {
   "cell_type": "code",
   "execution_count": 5,
   "metadata": {},
   "outputs": [
    {
     "name": "stdout",
     "output_type": "stream",
     "text": [
      "[[5.1 3.5 1.4 0.2]\n",
      " [4.9 3.  1.4 0.2]\n",
      " [4.7 3.2 1.3 0.2]\n",
      " [4.6 3.1 1.5 0.2]\n",
      " [5.  3.6 1.4 0.2]\n",
      " [5.4 3.9 1.7 0.4]\n",
      " [4.6 3.4 1.4 0.3]\n",
      " [5.  3.4 1.5 0.2]\n",
      " [4.4 2.9 1.4 0.2]\n",
      " [4.9 3.1 1.5 0.1]\n",
      " [5.4 3.7 1.5 0.2]\n",
      " [4.8 3.4 1.6 0.2]\n",
      " [4.8 3.  1.4 0.1]\n",
      " [4.3 3.  1.1 0.1]\n",
      " [5.8 4.  1.2 0.2]\n",
      " [5.7 4.4 1.5 0.4]\n",
      " [5.4 3.9 1.3 0.4]\n",
      " [5.1 3.5 1.4 0.3]\n",
      " [5.7 3.8 1.7 0.3]\n",
      " [5.1 3.8 1.5 0.3]\n",
      " [5.4 3.4 1.7 0.2]\n",
      " [5.1 3.7 1.5 0.4]\n",
      " [4.6 3.6 1.  0.2]\n",
      " [5.1 3.3 1.7 0.5]\n",
      " [4.8 3.4 1.9 0.2]\n",
      " [5.  3.  1.6 0.2]\n",
      " [5.  3.4 1.6 0.4]\n",
      " [5.2 3.5 1.5 0.2]\n",
      " [5.2 3.4 1.4 0.2]\n",
      " [4.7 3.2 1.6 0.2]\n",
      " [4.8 3.1 1.6 0.2]\n",
      " [5.4 3.4 1.5 0.4]\n",
      " [5.2 4.1 1.5 0.1]\n",
      " [5.5 4.2 1.4 0.2]\n",
      " [4.9 3.1 1.5 0.1]\n",
      " [5.  3.2 1.2 0.2]\n",
      " [5.5 3.5 1.3 0.2]\n",
      " [4.9 3.1 1.5 0.1]\n",
      " [4.4 3.  1.3 0.2]\n",
      " [5.1 3.4 1.5 0.2]\n",
      " [5.  3.5 1.3 0.3]\n",
      " [4.5 2.3 1.3 0.3]\n",
      " [4.4 3.2 1.3 0.2]\n",
      " [5.  3.5 1.6 0.6]\n",
      " [5.1 3.8 1.9 0.4]\n",
      " [4.8 3.  1.4 0.3]\n",
      " [5.1 3.8 1.6 0.2]\n",
      " [4.6 3.2 1.4 0.2]\n",
      " [5.3 3.7 1.5 0.2]\n",
      " [5.  3.3 1.4 0.2]\n",
      " [7.  3.2 4.7 1.4]\n",
      " [6.4 3.2 4.5 1.5]\n",
      " [6.9 3.1 4.9 1.5]\n",
      " [5.5 2.3 4.  1.3]\n",
      " [6.5 2.8 4.6 1.5]\n",
      " [5.7 2.8 4.5 1.3]\n",
      " [6.3 3.3 4.7 1.6]\n",
      " [4.9 2.4 3.3 1. ]\n",
      " [6.6 2.9 4.6 1.3]\n",
      " [5.2 2.7 3.9 1.4]\n",
      " [5.  2.  3.5 1. ]\n",
      " [5.9 3.  4.2 1.5]\n",
      " [6.  2.2 4.  1. ]\n",
      " [6.1 2.9 4.7 1.4]\n",
      " [5.6 2.9 3.6 1.3]\n",
      " [6.7 3.1 4.4 1.4]\n",
      " [5.6 3.  4.5 1.5]\n",
      " [5.8 2.7 4.1 1. ]\n",
      " [6.2 2.2 4.5 1.5]\n",
      " [5.6 2.5 3.9 1.1]\n",
      " [5.9 3.2 4.8 1.8]\n",
      " [6.1 2.8 4.  1.3]\n",
      " [6.3 2.5 4.9 1.5]\n",
      " [6.1 2.8 4.7 1.2]\n",
      " [6.4 2.9 4.3 1.3]\n",
      " [6.6 3.  4.4 1.4]\n",
      " [6.8 2.8 4.8 1.4]\n",
      " [6.7 3.  5.  1.7]\n",
      " [6.  2.9 4.5 1.5]\n",
      " [5.7 2.6 3.5 1. ]\n",
      " [5.5 2.4 3.8 1.1]\n",
      " [5.5 2.4 3.7 1. ]\n",
      " [5.8 2.7 3.9 1.2]\n",
      " [6.  2.7 5.1 1.6]\n",
      " [5.4 3.  4.5 1.5]\n",
      " [6.  3.4 4.5 1.6]\n",
      " [6.7 3.1 4.7 1.5]\n",
      " [6.3 2.3 4.4 1.3]\n",
      " [5.6 3.  4.1 1.3]\n",
      " [5.5 2.5 4.  1.3]\n",
      " [5.5 2.6 4.4 1.2]\n",
      " [6.1 3.  4.6 1.4]\n",
      " [5.8 2.6 4.  1.2]\n",
      " [5.  2.3 3.3 1. ]\n",
      " [5.6 2.7 4.2 1.3]\n",
      " [5.7 3.  4.2 1.2]\n",
      " [5.7 2.9 4.2 1.3]\n",
      " [6.2 2.9 4.3 1.3]\n",
      " [5.1 2.5 3.  1.1]\n",
      " [5.7 2.8 4.1 1.3]\n",
      " [6.3 3.3 6.  2.5]\n",
      " [5.8 2.7 5.1 1.9]\n",
      " [7.1 3.  5.9 2.1]\n",
      " [6.3 2.9 5.6 1.8]\n",
      " [6.5 3.  5.8 2.2]\n",
      " [7.6 3.  6.6 2.1]\n",
      " [4.9 2.5 4.5 1.7]\n",
      " [7.3 2.9 6.3 1.8]\n",
      " [6.7 2.5 5.8 1.8]\n",
      " [7.2 3.6 6.1 2.5]\n",
      " [6.5 3.2 5.1 2. ]\n",
      " [6.4 2.7 5.3 1.9]\n",
      " [6.8 3.  5.5 2.1]\n",
      " [5.7 2.5 5.  2. ]\n",
      " [5.8 2.8 5.1 2.4]\n",
      " [6.4 3.2 5.3 2.3]\n",
      " [6.5 3.  5.5 1.8]\n",
      " [7.7 3.8 6.7 2.2]\n",
      " [7.7 2.6 6.9 2.3]\n",
      " [6.  2.2 5.  1.5]\n",
      " [6.9 3.2 5.7 2.3]\n",
      " [5.6 2.8 4.9 2. ]\n",
      " [7.7 2.8 6.7 2. ]\n",
      " [6.3 2.7 4.9 1.8]\n",
      " [6.7 3.3 5.7 2.1]\n",
      " [7.2 3.2 6.  1.8]\n",
      " [6.2 2.8 4.8 1.8]\n",
      " [6.1 3.  4.9 1.8]\n",
      " [6.4 2.8 5.6 2.1]\n",
      " [7.2 3.  5.8 1.6]\n",
      " [7.4 2.8 6.1 1.9]\n",
      " [7.9 3.8 6.4 2. ]\n",
      " [6.4 2.8 5.6 2.2]\n",
      " [6.3 2.8 5.1 1.5]\n",
      " [6.1 2.6 5.6 1.4]\n",
      " [7.7 3.  6.1 2.3]\n",
      " [6.3 3.4 5.6 2.4]\n",
      " [6.4 3.1 5.5 1.8]\n",
      " [6.  3.  4.8 1.8]\n",
      " [6.9 3.1 5.4 2.1]\n",
      " [6.7 3.1 5.6 2.4]\n",
      " [6.9 3.1 5.1 2.3]\n",
      " [5.8 2.7 5.1 1.9]\n",
      " [6.8 3.2 5.9 2.3]\n",
      " [6.7 3.3 5.7 2.5]\n",
      " [6.7 3.  5.2 2.3]\n",
      " [6.3 2.5 5.  1.9]\n",
      " [6.5 3.  5.2 2. ]\n",
      " [6.2 3.4 5.4 2.3]\n",
      " [5.9 3.  5.1 1.8]]\n"
     ]
    }
   ],
   "source": [
    "print(X)"
   ]
  },
  {
   "cell_type": "code",
   "execution_count": 6,
   "metadata": {
    "colab": {
     "base_uri": "https://localhost:8080/",
     "height": 34
    },
    "colab_type": "code",
    "id": "38vKGE6Nb2RR",
    "outputId": "a815e42a-e0dd-4cb5-ab97-b17ead98fbc3"
   },
   "outputs": [
    {
     "name": "stdout",
     "output_type": "stream",
     "text": [
      "<class 'numpy.ndarray'>\n",
      "(150,)\n",
      "[0 0 0 0 0 0 0 0 0 0 0 0 0 0 0 0 0 0 0 0 0 0 0 0 0 0 0 0 0 0 0 0 0 0 0 0 0\n",
      " 0 0 0 0 0 0 0 0 0 0 0 0 0 1 1 1 1 1 1 1 1 1 1 1 1 1 1 1 1 1 1 1 1 1 1 1 1\n",
      " 1 1 1 1 1 1 1 1 1 1 1 1 1 1 1 1 1 1 1 1 1 1 1 1 1 1 2 2 2 2 2 2 2 2 2 2 2\n",
      " 2 2 2 2 2 2 2 2 2 2 2 2 2 2 2 2 2 2 2 2 2 2 2 2 2 2 2 2 2 2 2 2 2 2 2 2 2\n",
      " 2 2]\n"
     ]
    }
   ],
   "source": [
    "print(type(y))\n",
    "print(y.shape)\n",
    "print(y)"
   ]
  },
  {
   "cell_type": "markdown",
   "metadata": {
    "colab_type": "text",
    "id": "vHol938cW8zd"
   },
   "source": [
    "### Splitting the dataset into the Training set and Test set"
   ]
  },
  {
   "cell_type": "code",
   "execution_count": 7,
   "metadata": {
    "colab": {},
    "colab_type": "code",
    "id": "Z-TDt0Y_XEfc"
   },
   "outputs": [],
   "source": [
    "from sklearn.model_selection import train_test_split\n",
    "X_train, X_test, y_train, y_test = train_test_split(X, y, test_size = 0.2, random_state = 0)"
   ]
  },
  {
   "cell_type": "markdown",
   "metadata": {
    "colab_type": "text",
    "id": "RE_FcHyfV3TQ"
   },
   "source": [
    "### Feature Scaling"
   ]
  },
  {
   "cell_type": "code",
   "execution_count": 8,
   "metadata": {
    "colab": {},
    "colab_type": "code",
    "id": "ViCrE00rV8Sk"
   },
   "outputs": [],
   "source": [
    "from sklearn.preprocessing import StandardScaler\n",
    "sc = StandardScaler()\n",
    "X_train = sc.fit_transform(X_train)\n",
    "X_test = sc.transform(X_test)"
   ]
  },
  {
   "cell_type": "code",
   "execution_count": 9,
   "metadata": {},
   "outputs": [
    {
     "name": "stdout",
     "output_type": "stream",
     "text": [
      "[[ 0.61303014  0.10850105  0.94751783  0.73603967]\n",
      " [-0.56776627 -0.12400121  0.38491447  0.34808318]\n",
      " [-0.80392556  1.03851009 -1.30289562 -1.3330616 ]\n",
      " [ 0.25879121 -0.12400121  0.60995581  0.73603967]\n",
      " [ 0.61303014 -0.58900572  1.00377816  1.25331499]\n",
      " [-0.80392556 -0.82150798  0.04735245  0.21876435]\n",
      " [-0.21352735  1.73601687 -1.19037495 -1.20374277]\n",
      " [ 0.14071157 -0.82150798  0.72247648  0.47740201]\n",
      " [ 0.02263193 -0.12400121  0.21613346  0.34808318]\n",
      " [-0.09544771 -1.05401024  0.10361279 -0.03987331]\n",
      " [ 1.0853487  -0.12400121  0.94751783  1.12399616]\n",
      " [-1.39432376  0.34100331 -1.41541629 -1.3330616 ]\n",
      " [ 1.20342834  0.10850105  0.72247648  1.38263382]\n",
      " [-1.04008484  1.03851009 -1.24663528 -0.81578628]\n",
      " [-0.56776627  1.50351461 -1.30289562 -1.3330616 ]\n",
      " [-1.04008484 -2.4490238  -0.1776889  -0.29851096]\n",
      " [ 0.73110978 -0.12400121  0.94751783  0.73603967]\n",
      " [ 0.96726906  0.57350557  1.0600385   1.64127148]\n",
      " [ 0.14071157 -1.98401928  0.66621615  0.34808318]\n",
      " [ 0.96726906 -1.2865125   1.11629884  0.73603967]\n",
      " [-0.33160699 -1.2865125   0.04735245 -0.16919214]\n",
      " [ 2.14806547 -0.12400121  1.28507985  1.38263382]\n",
      " [ 0.49495049  0.57350557  0.49743514  0.47740201]\n",
      " [-0.44968663 -1.51901476 -0.00890789 -0.16919214]\n",
      " [ 0.49495049 -0.82150798  0.60995581  0.73603967]\n",
      " [ 0.49495049 -0.58900572  0.72247648  0.34808318]\n",
      " [-1.15816448 -1.2865125   0.38491447  0.60672084]\n",
      " [ 0.49495049 -1.2865125   0.66621615  0.8653585 ]\n",
      " [ 1.32150798  0.34100331  0.49743514  0.21876435]\n",
      " [ 0.73110978 -0.12400121  0.77873682  0.99467733]\n",
      " [ 0.14071157  0.80600783  0.38491447  0.47740201]\n",
      " [-1.27624412  0.10850105 -1.24663528 -1.3330616 ]\n",
      " [-0.09544771 -0.82150798  0.72247648  0.8653585 ]\n",
      " [-0.33160699 -0.82150798  0.21613346  0.08944552]\n",
      " [-0.33160699 -0.35650346 -0.12142856  0.08944552]\n",
      " [-0.44968663 -1.2865125   0.10361279  0.08944552]\n",
      " [ 0.25879121 -0.12400121  0.4411748   0.21876435]\n",
      " [ 1.55766726  0.34100331  1.22881951  0.73603967]\n",
      " [-0.68584591  1.50351461 -1.30289562 -1.3330616 ]\n",
      " [-1.86664232 -0.12400121 -1.52793696 -1.46238043]\n",
      " [ 0.61303014 -0.82150798  0.83499716  0.8653585 ]\n",
      " [-0.21352735 -0.12400121  0.21613346 -0.03987331]\n",
      " [-0.56776627  0.80600783 -1.19037495 -1.3330616 ]\n",
      " [-0.21352735  3.13103043 -1.30289562 -1.07442394]\n",
      " [ 1.20342834  0.10850105  0.60995581  0.34808318]\n",
      " [-1.5124034   0.10850105 -1.30289562 -1.3330616 ]\n",
      " [ 0.02263193 -0.12400121  0.72247648  0.73603967]\n",
      " [-0.9220052  -1.2865125  -0.45899058 -0.16919214]\n",
      " [-1.5124034   0.80600783 -1.35915595 -1.20374277]\n",
      " [ 0.37687085 -1.98401928  0.38491447  0.34808318]\n",
      " [ 1.55766726  1.27101235  1.28507985  1.64127148]\n",
      " [-0.21352735 -0.35650346  0.21613346  0.08944552]\n",
      " [-1.27624412 -0.12400121 -1.35915595 -1.46238043]\n",
      " [ 1.43958762 -0.12400121  1.17255917  1.12399616]\n",
      " [ 1.20342834  0.34100331  1.0600385   1.38263382]\n",
      " [ 0.73110978 -0.12400121  1.11629884  1.25331499]\n",
      " [ 0.61303014 -0.58900572  1.00377816  1.12399616]\n",
      " [-0.9220052   1.73601687 -1.24663528 -1.3330616 ]\n",
      " [-1.27624412  0.80600783 -1.24663528 -1.3330616 ]\n",
      " [ 0.73110978  0.34100331  0.72247648  0.99467733]\n",
      " [ 0.96726906  0.57350557  1.0600385   1.12399616]\n",
      " [-1.63048304 -1.75151702 -1.41541629 -1.20374277]\n",
      " [ 0.37687085  0.80600783  0.89125749  1.38263382]\n",
      " [-1.15816448 -0.12400121 -1.35915595 -1.3330616 ]\n",
      " [-0.21352735 -1.2865125   0.66621615  0.99467733]\n",
      " [ 1.20342834  0.10850105  0.89125749  1.12399616]\n",
      " [-1.74856268  0.34100331 -1.41541629 -1.3330616 ]\n",
      " [-1.04008484  1.27101235 -1.35915595 -1.3330616 ]\n",
      " [ 1.55766726 -0.12400121  1.11629884  0.47740201]\n",
      " [-0.9220052   1.03851009 -1.35915595 -1.20374277]\n",
      " [-1.74856268 -0.12400121 -1.41541629 -1.3330616 ]\n",
      " [-0.56776627  1.96851913 -1.19037495 -1.07442394]\n",
      " [-0.44968663 -1.75151702  0.10361279  0.08944552]\n",
      " [ 1.0853487   0.34100331  1.17255917  1.38263382]\n",
      " [ 2.02998583 -0.12400121  1.56638153  1.12399616]\n",
      " [-0.9220052   1.03851009 -1.35915595 -1.3330616 ]\n",
      " [-1.15816448  0.10850105 -1.30289562 -1.46238043]\n",
      " [-0.80392556  0.80600783 -1.35915595 -1.3330616 ]\n",
      " [-0.21352735 -0.58900572  0.38491447  0.08944552]\n",
      " [ 0.84918942 -0.12400121  0.32865413  0.21876435]\n",
      " [-1.04008484  0.34100331 -1.47167663 -1.3330616 ]\n",
      " [-0.9220052   0.57350557 -1.19037495 -0.94510511]\n",
      " [ 0.61303014 -0.35650346  0.27239379  0.08944552]\n",
      " [-0.56776627  0.80600783 -1.30289562 -1.07442394]\n",
      " [ 2.14806547 -1.05401024  1.73516253  1.38263382]\n",
      " [-1.15816448 -1.51901476 -0.29020957 -0.29851096]\n",
      " [ 2.38422475  1.73601687  1.45386085  0.99467733]\n",
      " [ 0.96726906  0.10850105  0.32865413  0.21876435]\n",
      " [-0.80392556  2.43352365 -1.30289562 -1.46238043]\n",
      " [ 0.14071157 -0.12400121  0.55369548  0.73603967]\n",
      " [-0.09544771  2.20102139 -1.47167663 -1.3330616 ]\n",
      " [ 2.14806547 -0.58900572  1.62264186  0.99467733]\n",
      " [-0.9220052   1.73601687 -1.30289562 -1.20374277]\n",
      " [-1.39432376  0.34100331 -1.24663528 -1.3330616 ]\n",
      " [ 1.79382654 -0.58900572  1.28507985  0.8653585 ]\n",
      " [-1.04008484  0.57350557 -1.35915595 -1.3330616 ]\n",
      " [ 0.49495049  0.80600783  1.00377816  1.51195265]\n",
      " [-0.21352735 -0.58900572  0.15987312  0.08944552]\n",
      " [-0.09544771 -0.82150798  0.04735245 -0.03987331]\n",
      " [-0.21352735 -1.05401024 -0.1776889  -0.29851096]\n",
      " [ 0.61303014  0.34100331  0.83499716  1.38263382]\n",
      " [ 0.96726906 -0.12400121  0.77873682  1.38263382]\n",
      " [ 0.49495049 -1.2865125   0.60995581  0.34808318]\n",
      " [ 0.96726906 -0.12400121  0.66621615  0.60672084]\n",
      " [-1.04008484 -0.12400121 -1.24663528 -1.3330616 ]\n",
      " [-0.44968663 -1.51901476 -0.06516822 -0.29851096]\n",
      " [ 0.96726906  0.10850105  1.00377816  1.51195265]\n",
      " [-0.09544771 -0.82150798  0.72247648  0.8653585 ]\n",
      " [-0.9220052   0.80600783 -1.30289562 -1.3330616 ]\n",
      " [ 0.84918942 -0.35650346  0.4411748   0.08944552]\n",
      " [-0.33160699 -0.12400121  0.15987312  0.08944552]\n",
      " [ 0.02263193  0.34100331  0.55369548  0.73603967]\n",
      " [ 0.49495049 -1.75151702  0.32865413  0.08944552]\n",
      " [-0.44968663  1.03851009 -1.41541629 -1.3330616 ]\n",
      " [-0.9220052   1.50351461 -1.30289562 -1.07442394]\n",
      " [-1.15816448  0.10850105 -1.30289562 -1.46238043]\n",
      " [ 0.49495049 -0.35650346  1.00377816  0.73603967]\n",
      " [-0.09544771 -0.82150798  0.15987312 -0.29851096]\n",
      " [ 2.14806547  1.73601687  1.62264186  1.25331499]\n",
      " [-1.5124034   0.34100331 -1.35915595 -1.3330616 ]]\n"
     ]
    }
   ],
   "source": [
    "print(X_train)"
   ]
  },
  {
   "cell_type": "markdown",
   "metadata": {},
   "source": [
    "One Hot Encoding for class"
   ]
  },
  {
   "cell_type": "code",
   "execution_count": 9,
   "metadata": {},
   "outputs": [
    {
     "name": "stdout",
     "output_type": "stream",
     "text": [
      "[2 1 0 2 2 1 0 1 1 1 2 0 2 0 0 1 2 2 2 2 1 2 1 1 2 2 2 2 1 2 1 0 2 1 1 1 1\n",
      " 2 0 0 2 1 0 0 1 0 2 1 0 1 2 1 0 2 2 2 2 0 0 2 2 0 2 0 2 2 0 0 2 0 0 0 1 2\n",
      " 2 0 0 0 1 1 0 0 1 0 2 1 2 1 0 2 0 2 0 0 2 0 2 1 1 1 2 2 1 1 0 1 2 2 0 1 1\n",
      " 1 1 0 0 0 2 1 2 0]\n"
     ]
    }
   ],
   "source": [
    "print(y_train)"
   ]
  },
  {
   "cell_type": "code",
   "execution_count": 10,
   "metadata": {},
   "outputs": [],
   "source": [
    "from keras.utils import to_categorical\n",
    "train_labels = to_categorical(y_train)\n",
    "test_labels = to_categorical(y_test)"
   ]
  },
  {
   "cell_type": "code",
   "execution_count": 11,
   "metadata": {},
   "outputs": [
    {
     "name": "stdout",
     "output_type": "stream",
     "text": [
      "[[0. 0. 1.]\n",
      " [0. 1. 0.]\n",
      " [1. 0. 0.]\n",
      " [0. 0. 1.]\n",
      " [0. 0. 1.]\n",
      " [0. 1. 0.]\n",
      " [1. 0. 0.]\n",
      " [0. 1. 0.]\n",
      " [0. 1. 0.]\n",
      " [0. 1. 0.]\n",
      " [0. 0. 1.]\n",
      " [1. 0. 0.]\n",
      " [0. 0. 1.]\n",
      " [1. 0. 0.]\n",
      " [1. 0. 0.]\n",
      " [0. 1. 0.]\n",
      " [0. 0. 1.]\n",
      " [0. 0. 1.]\n",
      " [0. 0. 1.]\n",
      " [0. 0. 1.]\n",
      " [0. 1. 0.]\n",
      " [0. 0. 1.]\n",
      " [0. 1. 0.]\n",
      " [0. 1. 0.]\n",
      " [0. 0. 1.]\n",
      " [0. 0. 1.]\n",
      " [0. 0. 1.]\n",
      " [0. 0. 1.]\n",
      " [0. 1. 0.]\n",
      " [0. 0. 1.]\n",
      " [0. 1. 0.]\n",
      " [1. 0. 0.]\n",
      " [0. 0. 1.]\n",
      " [0. 1. 0.]\n",
      " [0. 1. 0.]\n",
      " [0. 1. 0.]\n",
      " [0. 1. 0.]\n",
      " [0. 0. 1.]\n",
      " [1. 0. 0.]\n",
      " [1. 0. 0.]\n",
      " [0. 0. 1.]\n",
      " [0. 1. 0.]\n",
      " [1. 0. 0.]\n",
      " [1. 0. 0.]\n",
      " [0. 1. 0.]\n",
      " [1. 0. 0.]\n",
      " [0. 0. 1.]\n",
      " [0. 1. 0.]\n",
      " [1. 0. 0.]\n",
      " [0. 1. 0.]\n",
      " [0. 0. 1.]\n",
      " [0. 1. 0.]\n",
      " [1. 0. 0.]\n",
      " [0. 0. 1.]\n",
      " [0. 0. 1.]\n",
      " [0. 0. 1.]\n",
      " [0. 0. 1.]\n",
      " [1. 0. 0.]\n",
      " [1. 0. 0.]\n",
      " [0. 0. 1.]\n",
      " [0. 0. 1.]\n",
      " [1. 0. 0.]\n",
      " [0. 0. 1.]\n",
      " [1. 0. 0.]\n",
      " [0. 0. 1.]\n",
      " [0. 0. 1.]\n",
      " [1. 0. 0.]\n",
      " [1. 0. 0.]\n",
      " [0. 0. 1.]\n",
      " [1. 0. 0.]\n",
      " [1. 0. 0.]\n",
      " [1. 0. 0.]\n",
      " [0. 1. 0.]\n",
      " [0. 0. 1.]\n",
      " [0. 0. 1.]\n",
      " [1. 0. 0.]\n",
      " [1. 0. 0.]\n",
      " [1. 0. 0.]\n",
      " [0. 1. 0.]\n",
      " [0. 1. 0.]\n",
      " [1. 0. 0.]\n",
      " [1. 0. 0.]\n",
      " [0. 1. 0.]\n",
      " [1. 0. 0.]\n",
      " [0. 0. 1.]\n",
      " [0. 1. 0.]\n",
      " [0. 0. 1.]\n",
      " [0. 1. 0.]\n",
      " [1. 0. 0.]\n",
      " [0. 0. 1.]\n",
      " [1. 0. 0.]\n",
      " [0. 0. 1.]\n",
      " [1. 0. 0.]\n",
      " [1. 0. 0.]\n",
      " [0. 0. 1.]\n",
      " [1. 0. 0.]\n",
      " [0. 0. 1.]\n",
      " [0. 1. 0.]\n",
      " [0. 1. 0.]\n",
      " [0. 1. 0.]\n",
      " [0. 0. 1.]\n",
      " [0. 0. 1.]\n",
      " [0. 1. 0.]\n",
      " [0. 1. 0.]\n",
      " [1. 0. 0.]\n",
      " [0. 1. 0.]\n",
      " [0. 0. 1.]\n",
      " [0. 0. 1.]\n",
      " [1. 0. 0.]\n",
      " [0. 1. 0.]\n",
      " [0. 1. 0.]\n",
      " [0. 1. 0.]\n",
      " [0. 1. 0.]\n",
      " [1. 0. 0.]\n",
      " [1. 0. 0.]\n",
      " [1. 0. 0.]\n",
      " [0. 0. 1.]\n",
      " [0. 1. 0.]\n",
      " [0. 0. 1.]\n",
      " [1. 0. 0.]]\n"
     ]
    }
   ],
   "source": [
    "print(train_labels)"
   ]
  },
  {
   "cell_type": "code",
   "execution_count": 12,
   "metadata": {},
   "outputs": [
    {
     "name": "stdout",
     "output_type": "stream",
     "text": [
      "4 3\n"
     ]
    }
   ],
   "source": [
    "n_features = X.shape[1]\n",
    "n_classes = train_labels.shape[1]\n",
    "print(n_features,n_classes)"
   ]
  },
  {
   "cell_type": "markdown",
   "metadata": {
    "colab_type": "text",
    "id": "-zfEzkRVXIwF"
   },
   "source": [
    "## Part 2 - Building the ANN"
   ]
  },
  {
   "cell_type": "markdown",
   "metadata": {
    "colab_type": "text",
    "id": "KvdeScabXtlB"
   },
   "source": [
    "### Initializing the ANN"
   ]
  },
  {
   "cell_type": "code",
   "execution_count": 13,
   "metadata": {
    "colab": {},
    "colab_type": "code",
    "id": "3dtrScHxXQox"
   },
   "outputs": [],
   "source": [
    "ann = tf.keras.models.Sequential()"
   ]
  },
  {
   "cell_type": "markdown",
   "metadata": {
    "colab_type": "text",
    "id": "rP6urV6SX7kS"
   },
   "source": [
    "### Adding the input layer and the first hidden layer"
   ]
  },
  {
   "cell_type": "code",
   "execution_count": 14,
   "metadata": {
    "colab": {},
    "colab_type": "code",
    "id": "bppGycBXYCQr"
   },
   "outputs": [],
   "source": [
    "ann.add(tf.keras.layers.Dense(units=512, activation='relu',input_shape=(n_features,)))"
   ]
  },
  {
   "cell_type": "markdown",
   "metadata": {
    "colab_type": "text",
    "id": "OyNEe6RXYcU4"
   },
   "source": [
    "### Adding the output layer"
   ]
  },
  {
   "cell_type": "code",
   "execution_count": 15,
   "metadata": {
    "colab": {},
    "colab_type": "code",
    "id": "Cn3x41RBYfvY"
   },
   "outputs": [],
   "source": [
    "ann.add(tf.keras.layers.Dense(units=n_classes, activation='softmax'))"
   ]
  },
  {
   "cell_type": "markdown",
   "metadata": {
    "colab_type": "text",
    "id": "JT4u2S1_Y4WG"
   },
   "source": [
    "## Part 3 - Training the ANN"
   ]
  },
  {
   "cell_type": "markdown",
   "metadata": {
    "colab_type": "text",
    "id": "8GWlJChhY_ZI"
   },
   "source": [
    "### Compiling the ANN"
   ]
  },
  {
   "cell_type": "code",
   "execution_count": 16,
   "metadata": {
    "colab": {},
    "colab_type": "code",
    "id": "fG3RrwDXZEaS"
   },
   "outputs": [],
   "source": [
    "from keras.optimizers import SGD\n",
    "\n",
    "opt = SGD(learning_rate=0.01, momentum=0.9, decay=0.01)\n",
    "ann.compile(optimizer = opt, loss = 'CategoricalCrossentropy', metrics = ['accuracy'])"
   ]
  },
  {
   "cell_type": "code",
   "execution_count": 17,
   "metadata": {},
   "outputs": [
    {
     "name": "stdout",
     "output_type": "stream",
     "text": [
      "Model: \"sequential\"\n",
      "_________________________________________________________________\n",
      " Layer (type)                Output Shape              Param #   \n",
      "=================================================================\n",
      " dense (Dense)               (None, 512)               2560      \n",
      "                                                                 \n",
      " dense_1 (Dense)             (None, 3)                 1539      \n",
      "                                                                 \n",
      "=================================================================\n",
      "Total params: 4,099\n",
      "Trainable params: 4,099\n",
      "Non-trainable params: 0\n",
      "_________________________________________________________________\n",
      "None\n"
     ]
    }
   ],
   "source": [
    "print(ann.summary())"
   ]
  },
  {
   "cell_type": "markdown",
   "metadata": {
    "colab_type": "text",
    "id": "0QR_G5u7ZLSM"
   },
   "source": [
    "### Training the ANN on the Training set"
   ]
  },
  {
   "cell_type": "code",
   "execution_count": 18,
   "metadata": {
    "colab": {
     "base_uri": "https://localhost:8080/",
     "height": 1000
    },
    "colab_type": "code",
    "id": "nHZ-LKv_ZRb3",
    "outputId": "718cc4b0-b5aa-40f0-9b20-d3d31730a531"
   },
   "outputs": [
    {
     "name": "stdout",
     "output_type": "stream",
     "text": [
      "Epoch 1/20\n",
      "3/3 [==============================] - 4s 180ms/step - loss: 1.0385 - accuracy: 0.6146 - val_loss: 1.0363 - val_accuracy: 0.5000\n",
      "Epoch 2/20\n",
      "3/3 [==============================] - 0s 55ms/step - loss: 0.9527 - accuracy: 0.7292 - val_loss: 0.9442 - val_accuracy: 0.5417\n",
      "Epoch 3/20\n",
      "3/3 [==============================] - 0s 25ms/step - loss: 0.8230 - accuracy: 0.7292 - val_loss: 0.8477 - val_accuracy: 0.5417\n",
      "Epoch 4/20\n",
      "3/3 [==============================] - 0s 25ms/step - loss: 0.6967 - accuracy: 0.7292 - val_loss: 0.7672 - val_accuracy: 0.5417\n",
      "Epoch 5/20\n",
      "3/3 [==============================] - 0s 15ms/step - loss: 0.6011 - accuracy: 0.7500 - val_loss: 0.7067 - val_accuracy: 0.6667\n",
      "Epoch 6/20\n",
      "3/3 [==============================] - 0s 20ms/step - loss: 0.5315 - accuracy: 0.7917 - val_loss: 0.6641 - val_accuracy: 0.7083\n",
      "Epoch 7/20\n",
      "3/3 [==============================] - 0s 15ms/step - loss: 0.4826 - accuracy: 0.8125 - val_loss: 0.6301 - val_accuracy: 0.7083\n",
      "Epoch 8/20\n",
      "3/3 [==============================] - 0s 16ms/step - loss: 0.4489 - accuracy: 0.8125 - val_loss: 0.6028 - val_accuracy: 0.7500\n",
      "Epoch 9/20\n",
      "3/3 [==============================] - 0s 15ms/step - loss: 0.4222 - accuracy: 0.8333 - val_loss: 0.5786 - val_accuracy: 0.7917\n",
      "Epoch 10/20\n",
      "3/3 [==============================] - 0s 15ms/step - loss: 0.4011 - accuracy: 0.8542 - val_loss: 0.5559 - val_accuracy: 0.7917\n",
      "Epoch 11/20\n",
      "3/3 [==============================] - 0s 20ms/step - loss: 0.3829 - accuracy: 0.8542 - val_loss: 0.5342 - val_accuracy: 0.7917\n",
      "Epoch 12/20\n",
      "3/3 [==============================] - 0s 20ms/step - loss: 0.3681 - accuracy: 0.8646 - val_loss: 0.5126 - val_accuracy: 0.7917\n",
      "Epoch 13/20\n",
      "3/3 [==============================] - 0s 17ms/step - loss: 0.3554 - accuracy: 0.8750 - val_loss: 0.4922 - val_accuracy: 0.8333\n",
      "Epoch 14/20\n",
      "3/3 [==============================] - 0s 14ms/step - loss: 0.3419 - accuracy: 0.8750 - val_loss: 0.4748 - val_accuracy: 0.8333\n",
      "Epoch 15/20\n",
      "3/3 [==============================] - 0s 15ms/step - loss: 0.3332 - accuracy: 0.8750 - val_loss: 0.4567 - val_accuracy: 0.8333\n",
      "Epoch 16/20\n",
      "3/3 [==============================] - 0s 15ms/step - loss: 0.3231 - accuracy: 0.8750 - val_loss: 0.4416 - val_accuracy: 0.8333\n",
      "Epoch 17/20\n",
      "3/3 [==============================] - 0s 15ms/step - loss: 0.3150 - accuracy: 0.8750 - val_loss: 0.4275 - val_accuracy: 0.8333\n",
      "Epoch 18/20\n",
      "3/3 [==============================] - 0s 20ms/step - loss: 0.3082 - accuracy: 0.8750 - val_loss: 0.4146 - val_accuracy: 0.8333\n",
      "Epoch 19/20\n",
      "3/3 [==============================] - 0s 15ms/step - loss: 0.3027 - accuracy: 0.8750 - val_loss: 0.4023 - val_accuracy: 0.8333\n",
      "Epoch 20/20\n",
      "3/3 [==============================] - 0s 15ms/step - loss: 0.2967 - accuracy: 0.8750 - val_loss: 0.3917 - val_accuracy: 0.8333\n"
     ]
    }
   ],
   "source": [
    "history_callback = ann.fit(X_train, train_labels, batch_size = 32, validation_split=0.2, epochs = 20)"
   ]
  },
  {
   "cell_type": "code",
   "execution_count": 17,
   "metadata": {},
   "outputs": [
    {
     "data": {
      "image/png": "[encoded data removed]",
      "text/plain": [
       "<Figure size 432x288 with 1 Axes>"
      ]
     },
     "metadata": {
      "needs_background": "light"
     },
     "output_type": "display_data"
    }
   ],
   "source": [
    "from matplotlib import pyplot as plt\n",
    "\n",
    "plt.plot(history_callback.history['accuracy'])\n",
    "plt.plot(history_callback.history['val_accuracy'])\n",
    "plt.title('model accuracy')\n",
    "plt.ylabel('accuracy')\n",
    "plt.xlabel('epoch')\n",
    "plt.legend(['train', 'val'], loc='upper left')\n",
    "plt.show()"
   ]
  },
  {
   "cell_type": "code",
   "execution_count": 18,
   "metadata": {},
   "outputs": [
    {
     "data": {
      "image/png": "[encoded data removed]",
      "text/plain": [
       "<Figure size 432x288 with 1 Axes>"
      ]
     },
     "metadata": {
      "needs_background": "light"
     },
     "output_type": "display_data"
    }
   ],
   "source": [
    "plt.plot(history_callback.history['loss'])\n",
    "plt.plot(history_callback.history['val_loss'])\n",
    "plt.title('model loss')\n",
    "plt.ylabel('loss')\n",
    "plt.xlabel('epoch')\n",
    "plt.legend(['train', 'val'], loc='upper left')\n",
    "plt.show()"
   ]
  },
  {
   "cell_type": "markdown",
   "metadata": {
    "colab_type": "text",
    "id": "tJj5k2MxZga3"
   },
   "source": [
    "## Part 4 - Making the predictions and evaluating the model"
   ]
  },
  {
   "cell_type": "markdown",
   "metadata": {
    "colab_type": "text",
    "id": "u7yx47jPZt11"
   },
   "source": [
    "### Predicting the Test set results"
   ]
  },
  {
   "cell_type": "code",
   "execution_count": 26,
   "metadata": {
    "colab": {
     "base_uri": "https://localhost:8080/",
     "height": 137
    },
    "colab_type": "code",
    "id": "nIyEeQdRZwgs",
    "outputId": "82330ba8-9bdc-4fd1-d3cf-b6d78ee7c2a3"
   },
   "outputs": [
    {
     "name": "stdout",
     "output_type": "stream",
     "text": [
      "1/1 [==============================] - 0s 21ms/step\n"
     ]
    }
   ],
   "source": [
    "y_pred = ann.predict(X_test)"
   ]
  },
  {
   "cell_type": "code",
   "execution_count": 31,
   "metadata": {},
   "outputs": [
    {
     "name": "stdout",
     "output_type": "stream",
     "text": [
      "[[0.01590567 0.19647148 0.78762287]\n",
      " [0.05040974 0.752927   0.1966632 ]\n",
      " [0.9948014  0.00331122 0.00188739]\n",
      " [0.0047446  0.06996365 0.9252918 ]\n",
      " [0.98184997 0.01328031 0.00486965]\n",
      " [0.00789201 0.06333423 0.9287737 ]\n",
      " [0.9853894  0.01047645 0.00413417]\n",
      " [0.05348459 0.24927534 0.69724005]\n",
      " [0.03674636 0.28775933 0.67549425]\n",
      " [0.10271409 0.5230273  0.37425858]\n",
      " [0.02962177 0.40124476 0.5691335 ]\n",
      " [0.08869353 0.29240167 0.6189049 ]\n",
      " [0.08262257 0.49046227 0.4269151 ]\n",
      " [0.04502966 0.331227   0.62374336]\n",
      " [0.07456277 0.4079299  0.5175074 ]\n",
      " [0.96920824 0.02449984 0.00629189]\n",
      " [0.0783907  0.41754675 0.50406253]\n",
      " [0.0922823  0.6783088  0.22940895]\n",
      " [0.9524917  0.03878905 0.00871918]\n",
      " [0.9892391  0.00701913 0.00374176]\n",
      " [0.03874936 0.35606435 0.6051863 ]\n",
      " [0.12181924 0.4693707  0.40881005]\n",
      " [0.97929996 0.0153819  0.0053182 ]\n",
      " [0.95746547 0.03655991 0.00597463]\n",
      " [0.03274488 0.28763616 0.679619  ]\n",
      " [0.9941029  0.00437973 0.0015174 ]\n",
      " [0.98489016 0.01007861 0.00503123]\n",
      " [0.09723272 0.44787142 0.4548959 ]\n",
      " [0.12352197 0.7760636  0.10041439]\n",
      " [0.97414964 0.0186214  0.007229  ]]\n",
      "[2 1 0 2 0 2 0 2 2 1 2 2 1 2 2 0 2 1 0 0 2 1 0 0 2 0 0 2 1 0]\n",
      "[2 1 0 2 0 2 0 1 1 1 2 1 1 1 1 0 1 1 0 0 2 1 0 0 2 0 0 1 1 0]\n",
      "<class 'numpy.ndarray'>\n",
      "<class 'numpy.ndarray'>\n"
     ]
    }
   ],
   "source": [
    "y_classes = y_pred.argmax(axis=-1)\n",
    "print(y_pred)\n",
    "print(y_classes)\n",
    "print(y_test)\n",
    "print(type(y_classes))\n",
    "print(type(y_test))"
   ]
  },
  {
   "cell_type": "markdown",
   "metadata": {
    "colab_type": "text",
    "id": "o0oyfLWoaEGw"
   },
   "source": [
    "### Making the Confusion Matrix"
   ]
  },
  {
   "cell_type": "code",
   "execution_count": 34,
   "metadata": {
    "colab": {
     "base_uri": "https://localhost:8080/",
     "height": 68
    },
    "colab_type": "code",
    "id": "ci6K_r6LaF6P",
    "outputId": "4d854e9e-22d5-432f-f6e5-a102fe3ae0bd"
   },
   "outputs": [
    {
     "name": "stdout",
     "output_type": "stream",
     "text": [
      "[[11  0  0]\n",
      " [ 0  6  7]\n",
      " [ 0  0  6]]\n"
     ]
    },
    {
     "data": {
      "text/plain": [
       "0.7666666666666667"
      ]
     },
     "execution_count": 34,
     "metadata": {},
     "output_type": "execute_result"
    }
   ],
   "source": [
    "from sklearn.metrics import confusion_matrix, accuracy_score\n",
    "cm = confusion_matrix(y_test, y_classes)\n",
    "print(cm)\n",
    "accuracy_score(y_test, y_classes)"
   ]
  },
  {
   "cell_type": "code",
   "execution_count": null,
   "metadata": {},
   "outputs": [],
   "source": []
  }
 ],
 "metadata": {
  "colab": {
   "collapsed_sections": [],
   "name": "artificial_neural_network.ipynb",
   "provenance": [],
   "toc_visible": true
  },
  "kernelspec": {
   "display_name": "Python 3 (ipykernel)",
   "language": "python",
   "name": "python3"
  },
  "language_info": {
   "codemirror_mode": {
    "name": "ipython",
    "version": 3
   },
   "file_extension": ".py",
   "mimetype": "text/x-python",
   "name": "python",
   "nbconvert_exporter": "python",
   "pygments_lexer": "ipython3",
   "version": "3.9.7"
  }
 },
 "nbformat": 4,
 "nbformat_minor": 1
}
